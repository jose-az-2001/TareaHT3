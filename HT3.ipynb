{
 "cells": [
  {
   "cell_type": "code",
   "execution_count": 1,
   "id": "8890e3c1",
   "metadata": {},
   "outputs": [],
   "source": [
    "import numpy as np\n",
    "import os"
   ]
  },
  {
   "cell_type": "code",
   "execution_count": 8,
   "id": "eea3b2ba",
   "metadata": {},
   "outputs": [],
   "source": [
    "def GaussJordan(mat):\n",
    "  height = np.shape(matriz)[0]\n",
    "  width = np.shape(matriz)[1]\n",
    "  if (height > 0) and (width > 0) and (height >= (width-1)):\n",
    "      print(\"La matriz resuelta es: \")\n",
    "      for pos in range(0, height, 1):\n",
    "          mat[pos][:] = mat[pos][:] / mat[pos][pos]\n",
    "          for pos2 in range(0, height, 1):\n",
    "              if (pos2 != pos):\n",
    "                  matriz[pos2][:] = mat[pos2][:] - ((mat[pos2][pos] / mat[pos][pos]) * mat[pos][:])\n",
    "  else:\n",
    "      print(\"Error en la matriz\")\n",
    "  print(mat)\n",
    "  return mat"
   ]
  },
  {
   "cell_type": "code",
   "execution_count": 9,
   "id": "0c415998",
   "metadata": {},
   "outputs": [],
   "source": [
    "#Paso 1\n",
    "#x3/((x−1)〖(x+2)〗3)=\n",
    "#A/(x−1)+B/(x+2)+C/〖(x+2)〗2+D/〖(x+2)〗3=\n",
    "#A/(x−1)+B/(x+2)+C/(x2+4x+4)+D/(x3+6x2+12x+8)=\n",
    "\n",
    "#Paso 2\n",
    "#x3/((x−1)(x+2)3)= \n",
    "#(A(x3+6x2+12x+8)+B(x3+3x2−4)+C(x2+x−2)+D(x−1))/((x−1)(x+2)3)= \n",
    "#x3=Ax3+Bx3 \n",
    "#0=6Ax2+3Bx2+Cx2 \n",
    "#0=12Ax+Cx+Dx \n",
    "#0=8A−4B−2C−D"
   ]
  },
  {
   "cell_type": "code",
   "execution_count": 10,
   "id": "8b1c4e31",
   "metadata": {},
   "outputs": [
    {
     "name": "stdout",
     "output_type": "stream",
     "text": [
      "La matriz resuelta es: \n",
      "[[ 1.          0.          0.          0.          0.03703704]\n",
      " [-0.          1.          0.          0.          0.96296296]\n",
      " [-0.         -0.          1.          0.         -3.11111111]\n",
      " [-0.         -0.         -0.          1.          2.66666667]]\n"
     ]
    }
   ],
   "source": [
    "matriz = np.array(([1,1,0,0,1],[6,3,1,0,0],[12,0,1,1,0],[8,-4,-2,-1,0]),float)\n",
    "matriz = GaussJordan(matriz)"
   ]
  },
  {
   "cell_type": "code",
   "execution_count": null,
   "id": "c2cb0967",
   "metadata": {},
   "outputs": [],
   "source": [
    "#R//x^3/((x−1)(x+2)^3)=0.03703704/(x−1)+0.96296296/(x+2)−3.11111111/(x+2)^2+2.66666667/(x+2)^3"
   ]
  },
  {
   "cell_type": "code",
   "execution_count": null,
   "id": "d6b43425",
   "metadata": {},
   "outputs": [],
   "source": [
    "#Paso 1\n",
    "#(−x2+3x+7)/((x+2)2(x2+x+1))= \n",
    "#A/(x+2)+B/(x+2)2+(Cx+D)/(x2+x+1)= \n",
    "#A/(x+2)+B/(x2+4x+4)+(Cx+D)/(x2+x+1) \n",
    "\n",
    "#Paso 2\n",
    "#(−x2+3x+7)/((x+2)2(x2+x+1))=\n",
    "#(A(x3+3x2+3x+2)+B(x2+x+1)+C(x3+4x2+4x)+D(x2+4x+4))/((x+2)2(x2+x+1))=\n",
    "#0=Ax3+Cx3\n",
    "#−x2=3Ax2+Bx2+4Cx2+Dx2\n",
    "#3x=3Ax+Bx+4Cx+4Dx\n",
    "#7=2A+B+4D"
   ]
  },
  {
   "cell_type": "code",
   "execution_count": 11,
   "id": "d8bcdc18",
   "metadata": {},
   "outputs": [
    {
     "name": "stdout",
     "output_type": "stream",
     "text": [
      "La matriz resuelta es: \n",
      "[[ 1.          0.          0.          0.          1.33333333]\n",
      " [ 0.          1.          0.          0.         -1.        ]\n",
      " [ 0.          0.          1.          0.         -1.33333333]\n",
      " [ 0.          0.          0.          1.          1.33333333]]\n"
     ]
    }
   ],
   "source": [
    "matriz = np.array(([1,0,1,0,0],[3,1,4,1,-1],[2,1,0,4,7],[3,1,4,4,3]),float)\n",
    "matriz = GaussJordan(matriz)"
   ]
  },
  {
   "cell_type": "code",
   "execution_count": null,
   "id": "eff3445f",
   "metadata": {},
   "outputs": [],
   "source": [
    "#R//(−x2+3x+7)/((x+2)^2(x^2+x+1))=1.33333333/(x+2)−1/(x+2)^2−(1.33333333x−1.33333333)/(x^2+x+1)"
   ]
  },
  {
   "cell_type": "code",
   "execution_count": null,
   "id": "947c8245",
   "metadata": {},
   "outputs": [],
   "source": [
    "#Paso 1\n",
    "#(3x2−x+4)/(x4+2x3+x)=A/x+(Bx2+Cx+D)/(x3+2x2+1)\n",
    "\n",
    "#Paso 2\n",
    "#(3x2−x+4)/(x4+2x3+x)=(A(x3+2x2+1)+Bx3+Cx2+Dx)/(x4+2x3+x)= \n",
    "#0=Ax3+Bx3 \n",
    "#3x2=2Ax2+Cx2 \n",
    "#−1x=Dx \n",
    "#4=A"
   ]
  },
  {
   "cell_type": "code",
   "execution_count": 12,
   "id": "4f469b73",
   "metadata": {},
   "outputs": [
    {
     "name": "stdout",
     "output_type": "stream",
     "text": [
      "La matriz resuelta es: \n",
      "[[ 1.  0.  0.  0.  4.]\n",
      " [ 0.  1.  0.  0. -4.]\n",
      " [ 0.  0.  1.  0. -5.]\n",
      " [ 0.  0.  0.  1. -1.]]\n"
     ]
    }
   ],
   "source": [
    "matriz = np.array(([1,0,0,0,4],[1,1,0,0,0],[2,0,1,0,3],[0,0,0,1,-1]),float)\n",
    "matriz = GaussJordan(matriz)"
   ]
  },
  {
   "cell_type": "code",
   "execution_count": null,
   "id": "4f1e6d18",
   "metadata": {},
   "outputs": [],
   "source": [
    "#R//(3x^2−x+4)/(x^4+2x^3+x)=4/x−(4x^2+5x+D)/(x^3+2x^2+1)"
   ]
  },
  {
   "cell_type": "code",
   "execution_count": null,
   "id": "0bdc8787",
   "metadata": {},
   "outputs": [],
   "source": [
    "#Paso 1\n",
    "#(2x3+5x)/(x4+5x2+6)=(Ax+B)/(x2+2)+(Cx+D)/(x2+3) \n",
    "\n",
    "#Paso 2\n",
    "#(2x3+5x)/(x4+5x2+6)=(A(x3+3x)+B(x2+3)+C(x3+2x)+D(x2+2))/(x2+2)(x2+3)=\n",
    "#2x3=Ax3+Cx3\n",
    "#0=Bx2+Dx2\n",
    "#5x=3Ax+2Cx\n",
    "#0=3B+2D"
   ]
  },
  {
   "cell_type": "code",
   "execution_count": 13,
   "id": "81f87337",
   "metadata": {},
   "outputs": [
    {
     "name": "stdout",
     "output_type": "stream",
     "text": [
      "La matriz resuelta es: \n",
      "[[ 1.  0.  0.  0.  1.]\n",
      " [ 0.  1.  0.  0.  0.]\n",
      " [-0. -0.  1.  0.  1.]\n",
      " [-0. -0. -0.  1. -0.]]\n"
     ]
    }
   ],
   "source": [
    "matriz = np.array(([1,0,1,0,2],[0,1,0,1,0],[3,0,2,0,5],[0,3,0,2,0]),float)\n",
    "matriz = GaussJordan(matriz)"
   ]
  },
  {
   "cell_type": "code",
   "execution_count": null,
   "id": "7e014789",
   "metadata": {},
   "outputs": [],
   "source": [
    "#R//(2x^3+5x)/(x^4+5x^2+6)=x/(x^2+2)+x/(x^2+3)"
   ]
  }
 ],
 "metadata": {
  "kernelspec": {
   "display_name": "Python 3 (ipykernel)",
   "language": "python",
   "name": "python3"
  },
  "language_info": {
   "codemirror_mode": {
    "name": "ipython",
    "version": 3
   },
   "file_extension": ".py",
   "mimetype": "text/x-python",
   "name": "python",
   "nbconvert_exporter": "python",
   "pygments_lexer": "ipython3",
   "version": "3.9.12"
  }
 },
 "nbformat": 4,
 "nbformat_minor": 5
}
